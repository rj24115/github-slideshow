{
 "cells": [
  {
   "cell_type": "code",
   "execution_count": 1,
   "id": "729ba099",
   "metadata": {
    "_cell_guid": "b1076dfc-b9ad-4769-8c92-a6c4dae69d19",
    "_uuid": "8f2839f25d086af736a60e9eeb907d3b93b6e0e5",
    "execution": {
     "iopub.execute_input": "2022-02-21T21:13:57.703414Z",
     "iopub.status.busy": "2022-02-21T21:13:57.701477Z",
     "iopub.status.idle": "2022-02-21T21:13:57.716667Z",
     "shell.execute_reply": "2022-02-21T21:13:57.717562Z",
     "shell.execute_reply.started": "2022-02-21T21:09:47.593246Z"
    },
    "papermill": {
     "duration": 0.028324,
     "end_time": "2022-02-21T21:13:57.717955",
     "exception": false,
     "start_time": "2022-02-21T21:13:57.689631",
     "status": "completed"
    },
    "tags": []
   },
   "outputs": [
    {
     "name": "stdout",
     "output_type": "stream",
     "text": [
      "test\n"
     ]
    }
   ],
   "source": [
    "# This Python 3 environment comes with many helpful analytics libraries installed\n",
    "# It is defined by the kaggle/python Docker image: https://github.com/kaggle/docker-python\n",
    "# For example, here's several helpful packages to load\n",
    "\n",
    "import numpy as np # linear algebra\n",
    "import pandas as pd # data processing, CSV file I/O (e.g. pd.read_csv)\n",
    "\n",
    "# Input data files are available in the read-only \"../input/\" directory\n",
    "# For example, running this (by clicking run or pressing Shift+Enter) will list all files under the input directory\n",
    "\n",
    "import os\n",
    "for dirname, _, filenames in os.walk('/kaggle/input'):\n",
    "    for filename in filenames:\n",
    "        print(os.path.join(dirname, filename))\n",
    "\n",
    "# You can write up to 20GB to the current directory (/kaggle/working/) that gets preserved as output when you create a version using \"Save & Run All\" \n",
    "# You can also write temporary files to /kaggle/temp/, but they won't be saved outside of the current session\n",
    "\n",
    "print('test')"
   ]
  },
  {
   "cell_type": "code",
   "execution_count": 2,
   "id": "2e55e691",
   "metadata": {
    "execution": {
     "iopub.execute_input": "2022-02-21T21:13:57.739892Z",
     "iopub.status.busy": "2022-02-21T21:13:57.739003Z",
     "iopub.status.idle": "2022-02-21T21:13:57.743020Z",
     "shell.execute_reply": "2022-02-21T21:13:57.743551Z",
     "shell.execute_reply.started": "2022-02-21T21:09:57.891576Z"
    },
    "papermill": {
     "duration": 0.018365,
     "end_time": "2022-02-21T21:13:57.743728",
     "exception": false,
     "start_time": "2022-02-21T21:13:57.725363",
     "status": "completed"
    },
    "tags": []
   },
   "outputs": [
    {
     "data": {
      "text/plain": [
       "'/kaggle/working'"
      ]
     },
     "execution_count": 2,
     "metadata": {},
     "output_type": "execute_result"
    }
   ],
   "source": [
    "%pwd"
   ]
  },
  {
   "cell_type": "code",
   "execution_count": 3,
   "id": "480fbdb2",
   "metadata": {
    "execution": {
     "iopub.execute_input": "2022-02-21T21:13:57.761963Z",
     "iopub.status.busy": "2022-02-21T21:13:57.761233Z",
     "iopub.status.idle": "2022-02-21T21:13:58.543607Z",
     "shell.execute_reply": "2022-02-21T21:13:58.542975Z",
     "shell.execute_reply.started": "2022-02-21T21:10:03.101653Z"
    },
    "papermill": {
     "duration": 0.793794,
     "end_time": "2022-02-21T21:13:58.543757",
     "exception": false,
     "start_time": "2022-02-21T21:13:57.749963",
     "status": "completed"
    },
    "tags": []
   },
   "outputs": [
    {
     "name": "stdout",
     "output_type": "stream",
     "text": [
      "__notebook__.ipynb\r\n"
     ]
    }
   ],
   "source": [
    "%ls"
   ]
  },
  {
   "cell_type": "code",
   "execution_count": null,
   "id": "87298a7e",
   "metadata": {
    "papermill": {
     "duration": 0.007022,
     "end_time": "2022-02-21T21:13:58.557715",
     "exception": false,
     "start_time": "2022-02-21T21:13:58.550693",
     "status": "completed"
    },
    "tags": []
   },
   "outputs": [],
   "source": []
  }
 ],
 "metadata": {
  "kernelspec": {
   "display_name": "Python 3",
   "language": "python",
   "name": "python3"
  },
  "language_info": {
   "codemirror_mode": {
    "name": "ipython",
    "version": 3
   },
   "file_extension": ".py",
   "mimetype": "text/x-python",
   "name": "python",
   "nbconvert_exporter": "python",
   "pygments_lexer": "ipython3",
   "version": "3.7.12"
  },
  "papermill": {
   "default_parameters": {},
   "duration": 12.632411,
   "end_time": "2022-02-21T21:13:59.277444",
   "environment_variables": {},
   "exception": null,
   "input_path": "__notebook__.ipynb",
   "output_path": "__notebook__.ipynb",
   "parameters": {},
   "start_time": "2022-02-21T21:13:46.645033",
   "version": "2.3.3"
  }
 },
 "nbformat": 4,
 "nbformat_minor": 5
}
